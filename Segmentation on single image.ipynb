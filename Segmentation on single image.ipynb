{
 "cells": [
  {
   "cell_type": "code",
   "execution_count": 2,
   "id": "832a080f",
   "metadata": {},
   "outputs": [],
   "source": [
    "import cv2\n",
    "import numpy as np\n",
    "\n",
    "# Function to display an image\n",
    "def display_image(image, title):\n",
    "    if image is not None and image.size > 0:\n",
    "        cv2.imshow(title, image)\n",
    "        cv2.waitKey(0)\n",
    "        cv2.destroyAllWindows()\n",
    "    else:\n",
    "        print(\"Error: Invalid image or size\")\n",
    "\n",
    "# Read the input image\n",
    "image = cv2.imread(\"ISIC_0024320.jpg\")\n",
    "\n",
    "# Display the original image\n",
    "display_image(image, \"Original Image\")\n",
    "\n",
    "if image is not None and image.size > 0:\n",
    "    # Create a mask initialized with zeros\n",
    "    mask = np.zeros(image.shape[:2], dtype=np.uint8)\n",
    "\n",
    "    # Initialize the rectangle for GrabCut\n",
    "    rect = (50, 50, image.shape[1]-50, image.shape[0]-50)\n",
    "\n",
    "    # Draw the rectangle on a copy of the original image\n",
    "    image_with_rectangle = image.copy()\n",
    "    cv2.rectangle(image_with_rectangle, (50, 50), (image.shape[1]-50, image.shape[0]-50), (0, 255, 0), 3)\n",
    "    display_image(image_with_rectangle, \"Image with Rectangle\")\n",
    "\n",
    "    # Initialize the foreground and background models\n",
    "    bgdModel = np.zeros((1, 65), np.float64)\n",
    "    fgdModel = np.zeros((1, 65), np.float64)\n",
    "\n",
    "    # Apply GrabCut segmentation\n",
    "    cv2.grabCut(image, mask, rect, bgdModel, fgdModel, 5, cv2.GC_INIT_WITH_RECT)\n",
    "\n",
    "    # Modify the mask to make all non-zero pixels (sure foreground and likely foreground) to be 1\n",
    "    mask2 = np.where((mask == 2) | (mask == 0), 0, 1).astype('uint8')\n",
    "\n",
    "    # Apply the modified mask to the input image\n",
    "    segmented_image = image * mask2[:, :, np.newaxis]\n",
    "\n",
    "    # Display the segmented image\n",
    "    display_image(segmented_image, \"Segmented Image\")\n"
   ]
  },
  {
   "cell_type": "code",
   "execution_count": null,
   "id": "52680e9f",
   "metadata": {},
   "outputs": [],
   "source": []
  }
 ],
 "metadata": {
  "kernelspec": {
   "display_name": "Python 3 (ipykernel)",
   "language": "python",
   "name": "python3"
  },
  "language_info": {
   "codemirror_mode": {
    "name": "ipython",
    "version": 3
   },
   "file_extension": ".py",
   "mimetype": "text/x-python",
   "name": "python",
   "nbconvert_exporter": "python",
   "pygments_lexer": "ipython3",
   "version": "3.9.7"
  }
 },
 "nbformat": 4,
 "nbformat_minor": 5
}
